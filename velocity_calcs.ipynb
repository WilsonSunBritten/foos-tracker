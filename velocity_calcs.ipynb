{
 "cells": [
  {
   "cell_type": "code",
   "execution_count": 1,
   "metadata": {},
   "outputs": [],
   "source": [
    "import numpy as np\n",
    "import pandas as pd\n",
    "%matplotlib inline\n",
    "from datetime import date, datetime, timedelta\n",
    "import matplotlib\n",
    "from IPython.display import Image, clear_output\n",
    "import math\n",
    "from ipywidgets import interact, interactive\n",
    "from IPython.core.display import display, HTML\n",
    "import pickle\n",
    "import matplotlib.pyplot as plt\n",
    "from matplotlib import colors\n",
    "from matplotlib.ticker import PercentFormatter\n",
    "from scipy import stats"
   ]
  },
  {
   "cell_type": "markdown",
   "metadata": {},
   "source": [
    "## Build basic test data"
   ]
  },
  {
   "cell_type": "code",
   "execution_count": null,
   "metadata": {},
   "outputs": [],
   "source": [
    "# datetimes for frame timing\n",
    "\n",
    "#data points (x_position, y_position, timestamp)"
   ]
  },
  {
   "cell_type": "code",
   "execution_count": 5,
   "metadata": {},
   "outputs": [],
   "source": [
    "current_time_string = datetime.utcnow()"
   ]
  },
  {
   "cell_type": "code",
   "execution_count": 6,
   "metadata": {},
   "outputs": [
    {
     "data": {
      "text/plain": [
       "datetime.datetime(2019, 10, 25, 15, 47, 9, 654840)"
      ]
     },
     "execution_count": 6,
     "metadata": {},
     "output_type": "execute_result"
    }
   ],
   "source": [
    "current_time_string"
   ]
  },
  {
   "cell_type": "code",
   "execution_count": 8,
   "metadata": {},
   "outputs": [
    {
     "data": {
      "text/plain": [
       "datetime.timedelta(0, 0, 1000)"
      ]
     },
     "execution_count": 8,
     "metadata": {},
     "output_type": "execute_result"
    }
   ],
   "source": [
    "timedelta(milliseconds = 1)"
   ]
  },
  {
   "cell_type": "code",
   "execution_count": 13,
   "metadata": {},
   "outputs": [],
   "source": [
    "frame_rate = 120\n",
    "frame_gap = timedelta(seconds = 1/frame_rate)"
   ]
  },
  {
   "cell_type": "code",
   "execution_count": null,
   "metadata": {},
   "outputs": [],
   "source": [
    "start_time = datetime.utcnow()"
   ]
  },
  {
   "cell_type": "code",
   "execution_count": 14,
   "metadata": {},
   "outputs": [],
   "source": [
    "#unit = inch\n",
    "\n",
    "pixels_per_unit = 30\n",
    "units_per_pixel = 1/pixels_per_unit"
   ]
  },
  {
   "cell_type": "code",
   "execution_count": 81,
   "metadata": {},
   "outputs": [],
   "source": [
    "mph_to_pps = 5280*12*pixels_per_unit/3600"
   ]
  },
  {
   "cell_type": "markdown",
   "metadata": {},
   "source": [
    "#### Test data 1"
   ]
  },
  {
   "cell_type": "code",
   "execution_count": 18,
   "metadata": {},
   "outputs": [],
   "source": [
    "# straight across\n",
    "# Say 36 inches at 20 mph"
   ]
  },
  {
   "cell_type": "code",
   "execution_count": 193,
   "metadata": {},
   "outputs": [
    {
     "name": "stdout",
     "output_type": "stream",
     "text": [
      "352.0\n",
      "10560.0\n"
     ]
    }
   ],
   "source": [
    "speed_mph = 20\n",
    "speed_ips = speed_mph*5280*12/3600\n",
    "speed_pps = speed_ips * pixels_per_unit\n",
    "print(speed_ips)\n",
    "print(speed_pps)"
   ]
  },
  {
   "cell_type": "code",
   "execution_count": 34,
   "metadata": {},
   "outputs": [],
   "source": [
    "pixel_distance = 36 * pixels_per_unit\n",
    "total_time = pixel_distance / speed_pps"
   ]
  },
  {
   "cell_type": "code",
   "execution_count": 35,
   "metadata": {},
   "outputs": [
    {
     "data": {
      "text/plain": [
       "0.10227272727272728"
      ]
     },
     "execution_count": 35,
     "metadata": {},
     "output_type": "execute_result"
    }
   ],
   "source": [
    "total_time"
   ]
  },
  {
   "cell_type": "code",
   "execution_count": 43,
   "metadata": {},
   "outputs": [
    {
     "name": "stdout",
     "output_type": "stream",
     "text": [
      "12\n"
     ]
    }
   ],
   "source": [
    "number_of_frames = math.floor(total_time * frame_rate)\n",
    "print(number_of_frames)"
   ]
  },
  {
   "cell_type": "code",
   "execution_count": 41,
   "metadata": {},
   "outputs": [],
   "source": [
    "times = [start_time + i * frame_gap for i in range(number_of_frames)]"
   ]
  },
  {
   "cell_type": "code",
   "execution_count": 44,
   "metadata": {},
   "outputs": [],
   "source": [
    "x_change = speed_pps / frame_rate\n",
    "y_change = 0\n",
    "\n",
    "x_positions = [0 + i * x_change for i in range(number_of_frames)]\n",
    "y_positions = [0 + i * y_change for i in range(number_of_frames)]"
   ]
  },
  {
   "cell_type": "code",
   "execution_count": 60,
   "metadata": {},
   "outputs": [],
   "source": [
    "data_1 = (x_positions, y_positions, times)"
   ]
  },
  {
   "cell_type": "code",
   "execution_count": 64,
   "metadata": {},
   "outputs": [],
   "source": [
    "data_file = 'sample_position_data_1.pickle'\n",
    "with open(data_file, 'wb') as f:\n",
    "    pickle.dump(data_1, f)"
   ]
  },
  {
   "cell_type": "markdown",
   "metadata": {},
   "source": [
    "#### Test data 2"
   ]
  },
  {
   "cell_type": "code",
   "execution_count": null,
   "metadata": {},
   "outputs": [],
   "source": [
    "# varied speed, straight across"
   ]
  },
  {
   "cell_type": "code",
   "execution_count": 179,
   "metadata": {},
   "outputs": [],
   "source": [
    "times = [start_time + i * frame_gap for i in range(number_of_frames)]"
   ]
  },
  {
   "cell_type": "code",
   "execution_count": 180,
   "metadata": {},
   "outputs": [],
   "source": [
    "x_positions = [0.0,20.0,50.0,90.0,140.0,200.0,270.0,350.0,450.0,550.0,720.0,968.0]\n",
    "y_positions = [0 + i * y_change for i in range(number_of_frames)]"
   ]
  },
  {
   "cell_type": "code",
   "execution_count": 181,
   "metadata": {},
   "outputs": [],
   "source": [
    "data_2 = (x_positions, y_positions, times)"
   ]
  },
  {
   "cell_type": "code",
   "execution_count": 182,
   "metadata": {},
   "outputs": [],
   "source": [
    "data_file = 'sample_position_data_2.pickle'\n",
    "with open(data_file, 'wb') as f:\n",
    "    pickle.dump(data_2, f)"
   ]
  },
  {
   "cell_type": "markdown",
   "metadata": {},
   "source": [
    "#### Test data 3"
   ]
  },
  {
   "cell_type": "code",
   "execution_count": null,
   "metadata": {},
   "outputs": [],
   "source": [
    "# varied speed, straight across"
   ]
  },
  {
   "cell_type": "code",
   "execution_count": 183,
   "metadata": {},
   "outputs": [],
   "source": [
    "times = [start_time + i * frame_gap for i in range(number_of_frames)]"
   ]
  },
  {
   "cell_type": "code",
   "execution_count": 184,
   "metadata": {},
   "outputs": [],
   "source": [
    "x_positions = [0.0,20.0,50.0,90.0,140.0,200.0,270.0,350.0,450.0,550.0,720.0,968.0]"
   ]
  },
  {
   "cell_type": "code",
   "execution_count": 185,
   "metadata": {},
   "outputs": [],
   "source": [
    "data_3 = (x_positions, x_positions, times)"
   ]
  },
  {
   "cell_type": "code",
   "execution_count": 187,
   "metadata": {},
   "outputs": [],
   "source": [
    "data_file = 'sample_position_data_3.pickle'\n",
    "with open(data_file, 'wb') as f:\n",
    "    pickle.dump(data_3, f)"
   ]
  },
  {
   "cell_type": "markdown",
   "metadata": {},
   "source": [
    "## Test Calculations"
   ]
  },
  {
   "cell_type": "markdown",
   "metadata": {},
   "source": [
    "#### Constant averaging as data is collected"
   ]
  },
  {
   "cell_type": "code",
   "execution_count": 204,
   "metadata": {},
   "outputs": [],
   "source": [
    "def simulate_stream_of_values(X_full, Y_full, T_full):\n",
    "    X = []\n",
    "    Y = []\n",
    "    T = []\n",
    "    V = np.array([])\n",
    "    for i in range(len(X_full)):\n",
    "        x = X_full[i]\n",
    "        y = Y_full[i]\n",
    "        t = T_full[i]\n",
    "        X.append(x)\n",
    "        Y.append(y)\n",
    "        T.append(t)\n",
    "\n",
    "        if len(X) > 1:\n",
    "            delta_x = X[i] - X[i-1]\n",
    "            delta_y = Y[i] - Y[i-1]\n",
    "            delta_t = T[i] - T[i-1]\n",
    "            delta_p = math.sqrt(delta_x**2 + delta_y**2)\n",
    "            v = delta_p / delta_t.total_seconds()\n",
    "            V = np.append(V, v)\n",
    "            avg_v_mpg = np.mean(V[-3:]) / mph_to_pps\n",
    "            print(avg_v_mpg)"
   ]
  },
  {
   "cell_type": "code",
   "execution_count": 205,
   "metadata": {},
   "outputs": [],
   "source": [
    "def plot_and_simulate_data_set(data):\n",
    "    X_full = data[0]\n",
    "    Y_full = data[1]\n",
    "    T_full = data[2]\n",
    "    plt.scatter(X_full, Y_full, s = 20, c = [(dt - T_full[0]).total_seconds() for dt in T_full])\n",
    "    simulate_stream_of_values(X_full, Y_full, T_full)"
   ]
  },
  {
   "cell_type": "code",
   "execution_count": 206,
   "metadata": {},
   "outputs": [
    {
     "name": "stdout",
     "output_type": "stream",
     "text": [
      "20.00080003200128\n",
      "20.00080003200128\n",
      "20.00080003200128\n",
      "20.00080003200128\n",
      "20.00080003200128\n",
      "20.00080003200128\n",
      "20.00080003200128\n",
      "20.00080003200128\n",
      "20.00080003200128\n",
      "20.00080003200128\n",
      "20.00080003200128\n"
     ]
    },
    {
     "data": {
      "image/png": "[encoded data removed]",
      "text/plain": [
       "<Figure size 432x288 with 1 Axes>"
      ]
     },
     "metadata": {
      "needs_background": "light"
     },
     "output_type": "display_data"
    }
   ],
   "source": [
    "plot_and_simulate_data_set(data_1)"
   ]
  },
  {
   "cell_type": "code",
   "execution_count": 207,
   "metadata": {},
   "outputs": [
    {
     "name": "stdout",
     "output_type": "stream",
     "text": [
      "4.545636370909381\n",
      "5.682045463636727\n",
      "6.818454556364073\n",
      "9.091272741818763\n",
      "11.364090927273454\n",
      "13.636909112728146\n",
      "15.909727298182837\n",
      "18.94015154545576\n",
      "21.212969730910448\n",
      "28.031424287274522\n",
      "39.24399400218433\n"
     ]
    },
    {
     "data": {
      "image/png": "[encoded data removed]",
      "text/plain": [
       "<Figure size 432x288 with 1 Axes>"
      ]
     },
     "metadata": {
      "needs_background": "light"
     },
     "output_type": "display_data"
    }
   ],
   "source": [
    "plot_and_simulate_data_set(data_2)"
   ]
  },
  {
   "cell_type": "code",
   "execution_count": 208,
   "metadata": {},
   "outputs": [
    {
     "name": "stdout",
     "output_type": "stream",
     "text": [
      "6.428500605356464\n",
      "8.03562575669558\n",
      "9.642750908034698\n",
      "12.857001210712928\n",
      "16.07125151339116\n",
      "19.285501816069395\n",
      "22.499752118747626\n",
      "26.785419188985266\n",
      "29.9996694916635\n",
      "39.642420399698196\n",
      "55.49938855957747\n"
     ]
    },
    {
     "data": {
      "image/png": "[encoded data removed]",
      "text/plain": [
       "<Figure size 432x288 with 1 Axes>"
      ]
     },
     "metadata": {
      "needs_background": "light"
     },
     "output_type": "display_data"
    }
   ],
   "source": [
    "plot_and_simulate_data_set(data_3)"
   ]
  },
  {
   "cell_type": "code",
   "execution_count": null,
   "metadata": {},
   "outputs": [],
   "source": []
  },
  {
   "cell_type": "code",
   "execution_count": null,
   "metadata": {},
   "outputs": [],
   "source": []
  },
  {
   "cell_type": "code",
   "execution_count": null,
   "metadata": {},
   "outputs": [],
   "source": []
  },
  {
   "cell_type": "code",
   "execution_count": null,
   "metadata": {},
   "outputs": [],
   "source": []
  },
  {
   "cell_type": "markdown",
   "metadata": {},
   "source": [
    "#### Yield shit"
   ]
  },
  {
   "cell_type": "code",
   "execution_count": 101,
   "metadata": {},
   "outputs": [],
   "source": [
    "def add_data_get_velocity(x, y, t, point_over):\n",
    "    X = [x]\n",
    "    Y = [y]\n",
    "    T = [t]\n",
    "    V = np.array([])\n",
    "    yield 0\n",
    "    i = 1\n",
    "    while not point_over:\n",
    "        X.append(x)\n",
    "        Y.append(y)\n",
    "        T.append(t)\n",
    "        delta_x = X[i] - X[i-1]\n",
    "        delta_y = Y[i] - Y[i-1]\n",
    "        delta_t = T[i] - T[i-1]\n",
    "        delta_p = math.sqrt(delta_x**2 + delta_y**2)\n",
    "        v = delta_p / delta_t.total_seconds()\n",
    "        V = np.append(V, v)\n",
    "        yield v\n",
    "        i += 1\n",
    "        \n",
    "    return X, Y, T, V\n",
    "    "
   ]
  },
  {
   "cell_type": "code",
   "execution_count": null,
   "metadata": {},
   "outputs": [],
   "source": [
    "def yield_velocity():\n",
    "    i = 1\n",
    "    while True:\n",
    "        delta_x = X[i] - X[i-1]\n",
    "        delta_y = Y[i] - Y[i-1]\n",
    "        delta_t = T[i] - T[i-1]\n",
    "        delta_p = math.sqrt(delta_x**2 + delta_y**2)\n",
    "        v = delta_p / delta_t.total_seconds()\n",
    "        V = np.append(V, v)\n",
    "        yield v\n",
    "        i += 1"
   ]
  },
  {
   "cell_type": "code",
   "execution_count": 106,
   "metadata": {},
   "outputs": [],
   "source": [
    "v0 = add_data_get_velocity(X[0], Y[0], T[0], False)\n"
   ]
  },
  {
   "cell_type": "code",
   "execution_count": 107,
   "metadata": {},
   "outputs": [
    {
     "name": "stdout",
     "output_type": "stream",
     "text": [
      "<generator object add_data_get_velocity at 0x7f2853096678>\n"
     ]
    }
   ],
   "source": [
    "print(v0)"
   ]
  },
  {
   "cell_type": "code",
   "execution_count": null,
   "metadata": {},
   "outputs": [],
   "source": []
  }
 ],
 "metadata": {
  "kernelspec": {
   "display_name": "Python 3.7.0",
   "language": "python",
   "name": "python37-env"
  },
  "language_info": {
   "codemirror_mode": {
    "name": "ipython",
    "version": 3
   },
   "file_extension": ".py",
   "mimetype": "text/x-python",
   "name": "python",
   "nbconvert_exporter": "python",
   "pygments_lexer": "ipython3",
   "version": "3.6.9"
  }
 },
 "nbformat": 4,
 "nbformat_minor": 4
}
